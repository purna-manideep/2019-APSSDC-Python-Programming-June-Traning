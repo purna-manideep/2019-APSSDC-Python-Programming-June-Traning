{
 "cells": [
  {
   "cell_type": "markdown",
   "metadata": {},
   "source": [
    "### Day Objectives:\n",
    "* String Slicing\n",
    "* Functions in python\n",
    "* Basic problems related to conditional statements using functions\n",
    "* Iterations in python\n",
    "* problem practice\n"
   ]
  },
  {
   "cell_type": "markdown",
   "metadata": {},
   "source": [
    "### String Slicing"
   ]
  },
  {
   "cell_type": "code",
   "execution_count": 23,
   "metadata": {},
   "outputs": [
    {
     "data": {
      "text/plain": [
       "'nhy'"
      ]
     },
     "execution_count": 23,
     "metadata": {},
     "output_type": "execute_result"
    }
   ],
   "source": [
    "# Accessing the single character\n",
    "\n",
    "s1=\"python\"\n",
    "\n",
    "s1[0] # Accessing the first character in a string\n",
    "\n",
    "s1[1] # Accessing the Second character in a string\n",
    "\n",
    "s1[len(s1)-1] # Accessing the last character in a string\n",
    "\n",
    "s1[-1] # Accessing the last character in a string\n",
    "\n",
    "s1[-2] # Accessing the penultimate character in a string\n",
    "\n",
    "s1[0:2] # Accessing the first multiple character in a string using the slicing method\n",
    "\n",
    "s1[-2:] # Accessing the last multiple  character in a string using the slicing method and in the syntax the blank vlaue represents the end the of the string\n",
    "\n",
    "s1[4:] # Accessing from 5th  character to end of a string using the slicing method and in the syntax the blank vlaue represents the end the of the string\n",
    "\n",
    "s1[1:-1] # Accessing all the charactors except the first and last charactor\n",
    "\n",
    "s1[len(s1)//2] # Accessing the middle charactors of odd lenght string here the // represents the integer division\n",
    "\n",
    "s1[-1::-1] # Rverse of a string using string slicing here the addition of sintax -1 is for the indication of revesr direction\n",
    "\n",
    "s1[-1:-3:-1] # accessing the last two charactors in reverse order\n",
    "\n",
    "s1[len(s1)//2:len(s1)//2-2:-1] #revese the middle two characters in an even length string in reverse order\n",
    "\n",
    "s1[::2]# Accessing alternate charactors in a string here in the last 2 is for the representation of skiping charactors\n",
    "\n",
    "s1[::-2]# Accessing alternate charactors in a reverse order of a  string"
   ]
  },
  {
   "cell_type": "markdown",
   "metadata": {},
   "source": [
    "### Functions in Python"
   ]
  },
  {
   "cell_type": "code",
   "execution_count": 25,
   "metadata": {},
   "outputs": [
    {
     "data": {
      "text/plain": [
       "'nohtyp'"
      ]
     },
     "execution_count": 25,
     "metadata": {},
     "output_type": "execute_result"
    }
   ],
   "source": [
    "# function to reverse a string\n",
    "def reverseString(s):\n",
    "    return s[::-1]\n",
    "\n",
    "reverseString(\"python\")"
   ]
  },
  {
   "cell_type": "code",
   "execution_count": 32,
   "metadata": {},
   "outputs": [
    {
     "data": {
      "text/plain": [
       "True"
      ]
     },
     "execution_count": 32,
     "metadata": {},
     "output_type": "execute_result"
    }
   ],
   "source": [
    "# Function to Cheack if a string is palindrome\n",
    "\n",
    "def palindrome(s):\n",
    "    if s==s[::-1]:\n",
    "        return True\n",
    "    else:\n",
    "        return False\n",
    "    \n",
    "palindrome(\"racecar\")"
   ]
  },
  {
   "cell_type": "code",
   "execution_count": 37,
   "metadata": {},
   "outputs": [
    {
     "data": {
      "text/plain": [
       "False"
      ]
     },
     "execution_count": 37,
     "metadata": {},
     "output_type": "execute_result"
    }
   ],
   "source": [
    "# Function to check if a given year is a leap year\n",
    "\n",
    "def isLeapYear(year):\n",
    "    if year%400==0 or (year%100!=0 and year%4==0):\n",
    "        return True\n",
    "    return False\n",
    "\n",
    "isLeapYear(2019)\n",
    "    "
   ]
  },
  {
   "cell_type": "code",
   "execution_count": 1,
   "metadata": {},
   "outputs": [
    {
     "data": {
      "text/plain": [
       "4"
      ]
     },
     "execution_count": 1,
     "metadata": {},
     "output_type": "execute_result"
    }
   ],
   "source": [
    "# Function to count the number of digits in given number\n",
    "\n",
    "def numberOfdigits(s):\n",
    "    return len(str(s))\n",
    "\n",
    "numberOfdigits(\"1234\")    "
   ]
  },
  {
   "cell_type": "code",
   "execution_count": 2,
   "metadata": {},
   "outputs": [
    {
     "data": {
      "text/plain": [
       "234"
      ]
     },
     "execution_count": 2,
     "metadata": {},
     "output_type": "execute_result"
    }
   ],
   "source": [
    "# Function to identify the greatest of four number of digits in given number\n",
    "def gratestOFnumber(n1,n2,n3,n4):\n",
    "    if n1>n2 and n1>n3 and n1>n4:\n",
    "        return n1\n",
    "    elif n2>n3 and n2>n4:\n",
    "        return n2\n",
    "    elif n3>n4:\n",
    "        return n3\n",
    "    return n4\n",
    "\n",
    "gratestOFnumber(1,123,234,34)"
   ]
  },
  {
   "cell_type": "markdown",
   "metadata": {},
   "source": [
    "### Iteration\n",
    "\n",
    "* For \n",
    "* While"
   ]
  },
  {
   "cell_type": "code",
   "execution_count": 52,
   "metadata": {},
   "outputs": [
    {
     "name": "stdout",
     "output_type": "stream",
     "text": [
      "1 2 3 4 5 6 7 8 9 10 11 12 13 14 15 16 17 18 19 20 21 22 23 24 25 26 27 28 29 30 1 2 3 4 5 6 7 8 9 10 11 12 "
     ]
    }
   ],
   "source": [
    "# Function to print the n numbers\n",
    "\n",
    "def printNNaturalnumbers(n):\n",
    "    for counter in range(1,n+1):\n",
    "        print(counter,end=\" \")\n",
    "    return\n",
    "\n",
    "printNNaturalnumbers(30)\n",
    "printNNaturalnumbers(12)"
   ]
  },
  {
   "cell_type": "code",
   "execution_count": 2,
   "metadata": {},
   "outputs": [
    {
     "name": "stdout",
     "output_type": "stream",
     "text": [
      "1 2 3 4 5 6 7 8 9 10 11 12 13 14 15 16 17 18 19 20 21 22 23 24 25 26 27 28 29 30 31 32 33 34 35 36 37 38 39 40 41 42 43 44 45 46 47 48 49 50 51 52 53 54 55 56 57 58 59 60 61 62 63 64 65 66 67 68 69 70 71 72 73 74 75 76 77 78 79 80 81 82 83 84 85 86 87 88 89 90 91 92 93 94 95 96 97 98 99 100 "
     ]
    }
   ],
   "source": [
    "def nNaturalnumbers(n):\n",
    "    counter=1\n",
    "    while counter<=n:\n",
    "        print(counter, end=\" \")\n",
    "        counter=counter+1\n",
    "    return\n",
    "\n",
    "nNaturalnumbers(100)"
   ]
  },
  {
   "cell_type": "code",
   "execution_count": 23,
   "metadata": {},
   "outputs": [
    {
     "name": "stdout",
     "output_type": "stream",
     "text": [
      "2,4,6,8,10,12,14,16,18,"
     ]
    }
   ],
   "source": [
    "# Function to print all numbers divisible by 6\n",
    "# and not a factor of 100 in a given range(lb, ub) inclusive\n",
    "\n",
    "def divisible6(lb, ub):\n",
    "    for i in range(lb, ub+1):\n",
    "        if i % 6 == 0 and 100 % i != 0:\n",
    "            print(i, end=\" \")\n",
    "    return\n",
    "\n",
    "divisible6(100, 200)"
   ]
  },
  {
   "cell_type": "code",
   "execution_count": 5,
   "metadata": {},
   "outputs": [
    {
     "name": "stdout",
     "output_type": "stream",
     "text": [
      "4\n"
     ]
    },
    {
     "data": {
      "text/plain": [
       "24"
      ]
     },
     "execution_count": 5,
     "metadata": {},
     "output_type": "execute_result"
    }
   ],
   "source": [
    "# Function to calculate the factorial of a given number\n",
    "n=int(input())\n",
    "\n",
    "def factorial(n):\n",
    "    fact = 1\n",
    "    for i in range(2,n+1):\n",
    "        fact *= i\n",
    "    return fact\n",
    "\n",
    "factorial(n)"
   ]
  },
  {
   "cell_type": "code",
   "execution_count": 44,
   "metadata": {},
   "outputs": [
    {
     "data": {
      "text/plain": [
       "False"
      ]
     },
     "execution_count": 44,
     "metadata": {},
     "output_type": "execute_result"
    }
   ],
   "source": [
    "# Function to check if a given number is Prime\n",
    "\n",
    "def isPrime(n):\n",
    "    flag = True\n",
    "    for i in range(2, n//2+1):\n",
    "        if n % i == 0:\n",
    "            flag = False\n",
    "            return flag\n",
    "    return flag\n",
    "\n",
    "isPrime(4)"
   ]
  },
  {
   "cell_type": "code",
   "execution_count": 55,
   "metadata": {},
   "outputs": [
    {
     "name": "stdout",
     "output_type": "stream",
     "text": [
      "6 28 496 8128 "
     ]
    }
   ],
   "source": [
    "# Function to generate all Perfect numbers in a given range Perfect Number - Sum of all its factors is equal to the number itself\n",
    "def isPerfect(n):\n",
    "    if factorsList(n) == n:\n",
    "        return True\n",
    "    return False\n",
    "\n",
    "def generatePerfect(lb, ub):\n",
    "    for i in range(lb, ub+1):\n",
    "        if isPerfect(i):\n",
    "            print(i, end=\" \")\n",
    "    return\n",
    "\n",
    "generatePerfect(1, 10000)"
   ]
  },
  {
   "cell_type": "code",
   "execution_count": null,
   "metadata": {},
   "outputs": [],
   "source": [
    "# Function to calculate the average of first N Prime numbers\n",
    "\n",
    "def avgNPrimes(n):\n",
    "    primeCount = 0\n",
    "    sum = 0\n",
    "    seqCount = 2\n",
    "    while(primeCount < n):\n",
    "        if isPrime(seqCount):\n",
    "            primeCount += 1\n",
    "            sum += seqCount\n",
    "            #print(seqCount)\n",
    "        seqCount += 1\n",
    "    return sum/n\n",
    "\n",
    "avgNPrimes(10)\n",
    "    "
   ]
  },
  {
   "cell_type": "code",
   "execution_count": 9,
   "metadata": {},
   "outputs": [
    {
     "data": {
      "text/plain": [
       "16"
      ]
     },
     "execution_count": 9,
     "metadata": {},
     "output_type": "execute_result"
    }
   ],
   "source": [
    "def factorslist(n):\n",
    "    b=0\n",
    "    for i in range(1,n//2+1):\n",
    "        if n%i==0:\n",
    "            b+=i\n",
    "    return b\n",
    "\n",
    "factorslist(12)"
   ]
  },
  {
   "cell_type": "code",
   "execution_count": 2,
   "metadata": {},
   "outputs": [
    {
     "data": {
      "text/plain": [
       "3000.0"
      ]
     },
     "execution_count": 2,
     "metadata": {},
     "output_type": "execute_result"
    }
   ],
   "source": [
    "# function to calculate the average of a given range\n",
    "\n",
    "def avrerageRange(start,end):\n",
    "    sum=0\n",
    "    #count=0\n",
    "    for i in range(start,end+1):\n",
    "        sum=sum+i # Sum calculation\n",
    "        #count=count+1 #counting the number of values\n",
    "    return sum/(end-start+1)\n",
    "avrerageRange(1000,5000)"
   ]
  },
  {
   "cell_type": "code",
   "execution_count": 56,
   "metadata": {},
   "outputs": [
    {
     "data": {
      "text/plain": [
       "12.9"
      ]
     },
     "execution_count": 56,
     "metadata": {},
     "output_type": "execute_result"
    }
   ],
   "source": [
    "# Function to calculate the average of first N Prime numbers\n",
    "\n",
    "def avgNPrimes(n):\n",
    "    primeCount = 0\n",
    "    sum = 0\n",
    "    seqCount = 2\n",
    "    while(primeCount < n):\n",
    "        if isPrime(seqCount):\n",
    "            primeCount += 1\n",
    "            sum += seqCount\n",
    "            #print(seqCount)\n",
    "        seqCount += 1\n",
    "    return sum/n\n",
    "\n",
    "avgNPrimes(10)"
   ]
  },
  {
   "cell_type": "code",
   "execution_count": 39,
   "metadata": {},
   "outputs": [
    {
     "name": "stdout",
     "output_type": "stream",
     "text": [
      "enter the starting Year:2017\n",
      "enter the endinging Year:2019\n",
      "no leapyears\n"
     ]
    }
   ],
   "source": [
    "# Function to Generate all leap years in the give time period\n",
    "startyear=int(input(\"enter the starting Year:\"))\n",
    "endyear=int(input(\"enter the endinging Year:\"))\n",
    "    \n",
    "\n",
    "def isLeapYear(year):\n",
    "    if year%400==0 or (year%100!=0 and year%4==0):\n",
    "        return True\n",
    "    return False\n",
    "\n",
    "def generateLeapYear(startyear,endyear):\n",
    "    for year in range(startyear,endyear+1):\n",
    "        if isLeapYear(year):\n",
    "            print(year,end=\",\")\n",
    "    return print(\"no leapyears\")\n",
    "    \n",
    "            \n",
    "generateLeapYear(startyear,endyear)\n"
   ]
  },
  {
   "cell_type": "code",
   "execution_count": 13,
   "metadata": {},
   "outputs": [
    {
     "name": "stdout",
     "output_type": "stream",
     "text": [
      "enter the starting Year:2016\n",
      "enter the endinging Year:2017\n"
     ]
    },
    {
     "data": {
      "text/plain": [
       "365"
      ]
     },
     "execution_count": 13,
     "metadata": {},
     "output_type": "execute_result"
    }
   ],
   "source": [
    "# Function to find the number of days in the givenperiod\n",
    "\n",
    "startyear=int(input(\"enter the starting Year:\"))\n",
    "endyear=int(input(\"enter the endinging Year:\"))\n",
    "    \n",
    "\n",
    "def isLeapYear(year):\n",
    "    if year%400==0 or (year%100!=0 and year%4==0):\n",
    "        return True\n",
    "    return False\n",
    "def Numberofdays(startyear,endyear):\n",
    "    sum=0\n",
    "    for year in range (startyear+1,endyear+1):\n",
    "        if isLeapYear(year):\n",
    "            sum=sum+366\n",
    "        else:sum=sum+365\n",
    "    return sum\n",
    "s\n",
    "Numberofdays(startyear,endyear)"
   ]
  },
  {
   "cell_type": "code",
   "execution_count": 2,
   "metadata": {},
   "outputs": [
    {
     "name": "stdout",
     "output_type": "stream",
     "text": [
      "enter the starting Year:1\n",
      "enter the endinging Year:2019\n",
      "enter the starting Year:3\n",
      "enter the endinging Year:2019\n"
     ]
    },
    {
     "data": {
      "text/plain": [
       "61"
      ]
     },
     "execution_count": 2,
     "metadata": {},
     "output_type": "execute_result"
    }
   ],
   "source": [
    "# Function to calculate the numberof hours for a given timeperiod\n",
    " \n",
    "startmonth=int(input(\"enter the starting Year:\"))\n",
    "startyear=int(input(\"enter the endinging Year:\"))\n",
    "endmonth=int(input(\"enter the starting Year:\"))\n",
    "endyear=int(input(\"enter the endinging Year:\"))\n",
    "\n",
    "def isLeapYear(year):\n",
    "    if year%400==0 or (year%100!=0 and year%4==0):\n",
    "        return True\n",
    "    return False\n",
    "\n",
    "def numberOFDaysMonth(month,year):\n",
    "    if (month<=7 and month%2!=0) or (month>8 and month%2==0):\n",
    "        return 31\n",
    "    else:\n",
    "        return 30\n",
    "    if month ==2 and isLeapYear(year) == True:\n",
    "        return 29\n",
    "    elif month ==2 and isLeapYear(year) == False:\n",
    "        return 28\n",
    "    \n",
    "def Numberofhours(startmonth,startyear,endmonth,endyear):\n",
    "    sum=0\n",
    "    if(startyear!=endyear):\n",
    "        for i in range (startyear,endyear):\n",
    "            if i==endyear:\n",
    "                startmonth=1\n",
    "                endmonth=endmonth\n",
    "            else:\n",
    "                startmonth=1\n",
    "                endmonth=13\n",
    "            for startmonth in range (startmonth,endmonth):\n",
    "                sum=sum+numberOFDaysMonth(month,year)\n",
    "                startmonth+=1\n",
    "            i=i+1\n",
    "        return sum\n",
    "    elif(startyear==endyear):\n",
    "        for month in range (startmonth,endmonth):\n",
    "            sum=sum+numberOFDaysMonth(month,startyear)\n",
    "            month+=1\n",
    "        return sum\n",
    "            \n",
    "            \n",
    "Numberofhours(startmonth,startyear,endmonth,endyear)\n"
   ]
  },
  {
   "cell_type": "code",
   "execution_count": 35,
   "metadata": {},
   "outputs": [],
   "source": [
    "# Function to calculate number of hours for a given period in the format(month1, year1, month2, year2)\n",
    "# numberOfHours(11, 1975, 3, 1999) -> 204504 or 205248\n",
    "# numberOfHours(5, 2019, 6, 2019) -> 1464\n",
    "# 2, 2016 , 6, 2019\n",
    "# \n",
    "#  [all days from feb 2016 to dec 2016, \n",
    "# .  all days for years between 2016+1 and 2019-1,\n",
    "#     all days from Jan to June 2019]\n",
    "#No of hours = 24 * No of days\n",
    "# 3 steps\n",
    "    #1. start month year to end of year - calculate no of days\n",
    "    #2. Calculate days for all years between start year and end year exclusive\n",
    "            # 2017, 2018 - 365 * no of years\n",
    "    #3. calculate days from Jan to end month year\n",
    "\n",
    "# Excluding Feb\n",
    "# First Six months - 1, 3, 4, 5, 6, 7 \n",
    "                    # All odd months have 31 days\n",
    "                    # All even months have 30 days\n",
    "# Last Six months - 8, 9, 10, 11, 12\n",
    "                    # All even months have 31 days\n",
    "                    # All odd months have 30 days\n",
    "        \n",
    "# 31 days - (month <= 7 and month % 2 != 0 and month != 2) || (month >= 8 and month %2 == 0)\n",
    "#                return 31\n",
    "#\n",
    "#            else\n",
    "#                return 30\n",
    "\n",
    "\n",
    "\n",
    "def numberOfDaysMonth(month, year):\n",
    "    if month == 2:\n",
    "        if isLeapYear(year):\n",
    "            return 29\n",
    "        return 28\n",
    "    elif (month <= 7 and month % 2!= 0) or (month >= 8 and month % 2 == 0):\n",
    "        return 31\n",
    "    else:\n",
    "        return 30\n",
    "\n",
    "def daysInStartYear(startmonth, startyear):\n",
    "    days = 0 \n",
    "    for month in range(startmonth, 13):\n",
    "        days += numberOfDaysMonth(month, startyear)\n",
    "    return days    \n",
    "\n",
    "def daysInEndYear(endmonth, endyear):\n",
    "    days = 0\n",
    "    for month in range(1, endmonth+1):\n",
    "        days += numberOfDaysMonth(month, endyear)\n",
    "    return days\n",
    "\n",
    "def numberOfHours(startmonth, startyear, endmonth, endyear):\n",
    "    days = 0\n",
    "    if startyear != endyear:\n",
    "        days += daysInStartYear(startmonth, startyear)\n",
    "        days += daysInEndYear(endmonth, endyear)\n",
    "        if endyear - startyear == 2: # 2019 - 2017\n",
    "            days += numberOfDays(startyear+1, startyear+1)\n",
    "        elif endyear - startyear > 2:\n",
    "            days += numberOfDays(startyear+1, endyear-1)\n",
    "    else:\n",
    "        for month in range(startmonth, endmonth+1):\n",
    "            days += numberOfDaysMonth(month, startyear)\n",
    "    return 24 * days\n",
    "\n",
    "numberOfHours(6, 2018, 7, 2018)"
   ]
  },
  {
   "cell_type": "code",
   "execution_count": 40,
   "metadata": {},
   "outputs": [
    {
     "data": {
      "text/plain": [
       "8.0"
      ]
     },
     "execution_count": 40,
     "metadata": {},
     "output_type": "execute_result"
    }
   ],
   "source": [
    "# Function to find the average of cubes of all even numbers\n",
    "# in a given range(lb, ub) inclusive\n",
    "# 1, 10 -> 2, 4, 6, 8, 10 -> avg(8, 64, 216, 64*8, 1000) \n",
    "def avgCubesEven(lb, ub):\n",
    "    sum = 0\n",
    "    count = 0\n",
    "    for i in range(lb, ub + 1):\n",
    "        if i % 2 == 0:\n",
    "            sum += i ** 3\n",
    "            count += 1\n",
    "    return sum/count\n",
    "\n",
    "avgCubesEven(1, 3)"
   ]
  },
  {
   "cell_type": "code",
   "execution_count": 49,
   "metadata": {},
   "outputs": [
    {
     "data": {
      "text/plain": [
       "6"
      ]
     },
     "execution_count": 49,
     "metadata": {},
     "output_type": "execute_result"
    }
   ],
   "source": [
    "# Function to generate the sum of factors for a given number\n",
    "# 12 -> 1 2 3 4 6 12\n",
    "def factorsList(n):\n",
    "    sum = 0\n",
    "    for i in range(1, n//2+1):\n",
    "        if n % i == 0:\n",
    "            sum += i\n",
    "    return sum\n",
    "\n",
    "factorsList(6)\n"
   ]
  },
  {
   "cell_type": "code",
   "execution_count": 42,
   "metadata": {},
   "outputs": [
    {
     "data": {
      "text/plain": [
       "3628800"
      ]
     },
     "execution_count": 42,
     "metadata": {},
     "output_type": "execute_result"
    }
   ],
   "source": [
    "# Function to calculate the factorial of a given number\n",
    "def factorial(n):\n",
    "    fact = 1\n",
    "    for i in range(2,n+1):\n",
    "        fact *= i\n",
    "    return fact\n",
    "factorial(10)"
   ]
  },
  {
   "cell_type": "code",
   "execution_count": 48,
   "metadata": {},
   "outputs": [
    {
     "name": "stdout",
     "output_type": "stream",
     "text": [
      "129 127 125 123 "
     ]
    }
   ],
   "source": [
    "# Function to print the odd numbers in reverse order in a range\n",
    "\n",
    "def reverseOdd(start, end):\n",
    "    for i in range(end, start-1, -1):\n",
    "        if i % 2 != 0:\n",
    "            print(i, end=\" \")\n",
    "    return\n",
    "\n",
    "reverseOdd(123, 130)"
   ]
  },
  {
   "cell_type": "code",
   "execution_count": 51,
   "metadata": {},
   "outputs": [
    {
     "data": {
      "text/plain": [
       "15150"
      ]
     },
     "execution_count": 51,
     "metadata": {},
     "output_type": "execute_result"
    }
   ],
   "source": [
    "# Function to calculate the sum of numbers in a range\n",
    "\n",
    "def sumRange(start, end):\n",
    "    sum = 0\n",
    "    for i in range(start, end+1):\n",
    "        sum = sum + i\n",
    "    return sum\n",
    "\n",
    "\n",
    "sumRange(100, 200)"
   ]
  },
  {
   "cell_type": "code",
   "execution_count": 52,
   "metadata": {},
   "outputs": [
    {
     "data": {
      "text/plain": [
       "3000.0"
      ]
     },
     "execution_count": 52,
     "metadata": {},
     "output_type": "execute_result"
    }
   ],
   "source": [
    "# Function to calculate the average of a given range\n",
    "# (1,5) -> 3\n",
    "\n",
    "def averageRange(start, end):\n",
    "    sum = 0\n",
    "    #count = 0\n",
    "    for i in range(start, end+1):\n",
    "        sum = sum + i # Sum calculation\n",
    "        #count = count + 1 # Counting number of values\n",
    "    return sum/(end-start+1)\n",
    "\n",
    "averageRange(1000, 5000)"
   ]
  },
  {
   "cell_type": "code",
   "execution_count": 53,
   "metadata": {},
   "outputs": [
    {
     "name": "stdout",
     "output_type": "stream",
     "text": [
      "1920 1924 1928 1932 1936 1940 1944 1948 1952 1956 1960 1964 1968 1972 1976 1980 1984 1988 1992 1996 2000 2004 2008 2012 2016 "
     ]
    }
   ],
   "source": [
    "# Function to generate all leap years in a given time period\n",
    "# [2000, 2020] -> 2000 2004 2008 2012 2016 2020\n",
    "\n",
    "def isLeapYear(year): # To check if a given year is a Leap Year\n",
    "    if year % 400 == 0 or (year % 100 != 0 and year % 4 == 0):\n",
    "        return True\n",
    "    return False\n",
    "    \n",
    "def generateLeapYears(startyear, endyear): # uses the isLeapYear() to select leap years in a time period\n",
    "    for year in range(startyear, endyear+1):\n",
    "        if isLeapYear(year):\n",
    "            print(year, end=\" \")\n",
    "    return\n",
    "\n",
    "generateLeapYears(1919, 2019)\n"
   ]
  },
  {
   "cell_type": "code",
   "execution_count": null,
   "metadata": {},
   "outputs": [],
   "source": []
  },
  {
   "cell_type": "code",
   "execution_count": null,
   "metadata": {},
   "outputs": [],
   "source": []
  }
 ],
 "metadata": {
  "kernelspec": {
   "display_name": "Python 3",
   "language": "python",
   "name": "python3"
  },
  "language_info": {
   "codemirror_mode": {
    "name": "ipython",
    "version": 3
   },
   "file_extension": ".py",
   "mimetype": "text/x-python",
   "name": "python",
   "nbconvert_exporter": "python",
   "pygments_lexer": "ipython3",
   "version": "3.7.3"
  }
 },
 "nbformat": 4,
 "nbformat_minor": 2
}
