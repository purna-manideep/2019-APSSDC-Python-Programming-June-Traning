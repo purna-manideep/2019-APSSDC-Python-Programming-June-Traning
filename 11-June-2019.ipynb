{
 "cells": [
  {
   "cell_type": "markdown",
   "metadata": {},
   "source": [
    "### Markdown Basics\n",
    "\n",
    "* Let's now do a few exercises to practice the three keyboard shortcuts we discussed above:\n",
    "\n",
    "* Shift + Enter: run cell, select below\n",
    "* Ctrl + Enter: run selected cell\n",
    "* Alt + Enter: run cell, insert below\n",
    "\n",
    "\n",
    "\n",
    " * **Bold** \n",
    " * *Italic* \n",
    " * ***IB***\n",
    " * Normal Text\n",
    "   * Sublist1\n",
    "   * Sublist2\n",
    "   \n",
    "   \n",
    ">1. Ordered list element 1\n",
    ">2. Ordered list element 2\n",
    "\n",
    "\n",
    "\n",
    "[Jup Logo](jup.png)\n",
    "\n",
    "![Jupyter Logo](logo.png)\n",
    "\n",
    "\n",
    "\n",
    "\n",
    "I get 10 times more traffic from [Google] [1] than from\n",
    "[Yahoo] [2] or [MSN] [3].\n",
    "\n",
    "  [1]: http://google.com/        \"Google\"\n",
    "  [2]: http://search.yahoo.com/  \"Yahoo Search\"\n",
    "  [3]: http://search.msn.com/    \"MSN Search\"\n",
    "  \n",
    "  `print(\"Hello Markdown\")`\n",
    "  \n",
    "  <https://google.com>"
   ]
  },
  {
   "cell_type": "code",
   "execution_count": null,
   "metadata": {},
   "outputs": [],
   "source": [
    "Some of the most useful keyboard shortcuts we can use in command mode are:\n",
    "\n",
    "Ctrl + Enter: run selected cell\n",
    "Shift + Enter: run cell, select below\n",
    "Alt + Enter: run cell, insert below\n",
    "Up: select cell above\n",
    "Down: select cell below\n",
    "Enter: enter edit mode\n",
    "A: insert cell above\n",
    "B: insert cell below\n",
    "D, D (press D twice): delete selected cell\n",
    "Z: undo cell deletion\n",
    "S: save and checkpoint\n",
    "Y: convert to code cell\n",
    "M: convert to Markdown cell (we'll talk about Markdown cells later in this mission)\n",
    "Some of the most useful keyboard shortcuts we can use in edit mode are:\n",
    "\n",
    "Ctrl + Enter: run selected cell\n",
    "Shift + Enter: run cell, select below\n",
    "Alt + Enter: run cell, insert below\n",
    "Up: move cursor up\n",
    "Down: move cursor down\n",
    "Esc: enter command mode\n",
    "Ctrl + A: select all\n",
    "Ctrl + Z: undo\n",
    "Ctrl + Y: redo\n",
    "Ctrl + S: save and checkpoint\n",
    "Tab: indent or code completion\n",
    "Shift + Tab: tooltip (for instance, if you press Shift + Tab while the cursor is within the parentheses of a built-in function, a tooltip with documentation will pop up)\n"
   ]
  },
  {
   "cell_type": "markdown",
   "metadata": {},
   "source": [
    "### Python Basics\n"
   ]
  },
  {
   "cell_type": "code",
   "execution_count": 2,
   "metadata": {},
   "outputs": [
    {
     "name": "stdout",
     "output_type": "stream",
     "text": [
      "Good Afternoon !Hello Python\n"
     ]
    }
   ],
   "source": [
    "# python comments\n",
    "\n",
    "print(\"Good Afternoon\", \"!\" , end=\"\") #Basic output\n",
    "print(\"Hello Python\")"
   ]
  },
  {
   "cell_type": "markdown",
   "metadata": {},
   "source": [
    "### Assignment"
   ]
  },
  {
   "cell_type": "code",
   "execution_count": 2,
   "metadata": {},
   "outputs": [
    {
     "name": "stdout",
     "output_type": "stream",
     "text": [
      "123 234 345\n"
     ]
    }
   ],
   "source": [
    "n1 = 12345 #single Variable Assignment\n",
    "n1\n",
    "\n",
    "n2 = n3= n4 = n1 # Multi varaible assignment\n",
    "n3\n",
    "\n",
    "\n",
    "a,b,c = 123,234,345\n",
    "print(a,b,c)\n"
   ]
  },
  {
   "cell_type": "markdown",
   "metadata": {},
   "source": [
    "### DataTypes"
   ]
  },
  {
   "cell_type": "code",
   "execution_count": 10,
   "metadata": {},
   "outputs": [
    {
     "data": {
      "text/plain": [
       "12.0"
      ]
     },
     "execution_count": 10,
     "metadata": {},
     "output_type": "execute_result"
    }
   ],
   "source": [
    "type(a)\n",
    "s1 = \"python\"\n",
    "type(s1)\n",
    "\n",
    "f1 = 12.345\n",
    "type(f1)\n",
    "\n",
    "float(str(int(f1)))"
   ]
  },
  {
   "cell_type": "code",
   "execution_count": 11,
   "metadata": {},
   "outputs": [
    {
     "name": "stdout",
     "output_type": "stream",
     "text": [
      "Odd\n"
     ]
    }
   ],
   "source": [
    "# check if a number is Even\n",
    "\n",
    "n = 123\n",
    "if n % 2 == 0:\n",
    "    print(\"Even\")\n",
    "else:\n",
    "    print(\"Odd\")"
   ]
  },
  {
   "cell_type": "code",
   "execution_count": 15,
   "metadata": {},
   "outputs": [
    {
     "name": "stdout",
     "output_type": "stream",
     "text": [
      "Enter the first number :9\n",
      "Enter the second number :99\n",
      "Enter the third number :67\n",
      "99 is greatest\n"
     ]
    }
   ],
   "source": [
    "# Find the greatest of 3 numbers\n",
    "\n",
    "n1 = int(input(\"Enter the first number :\"))\n",
    "n2 = int(input(\"Enter the second number :\"))\n",
    "n3 = int(input(\"Enter the third number :\"))\n",
    "\n",
    "if n1 > n2 and n1 > n3:\n",
    "    print(n1, \"is greatest\")\n",
    "elif n2 > n3:\n",
    "    print(n2, \"is greatest\")\n",
    "else:\n",
    "    print(n3, \"is greatest\")"
   ]
  },
  {
   "cell_type": "code",
   "execution_count": null,
   "metadata": {},
   "outputs": [],
   "source": [
    "# Check if a Year is a Leap Year\n",
    "\n",
    "y = int(input(\"Enter a year\"))\n",
    "\n",
    "if y % 400 == 0 or (y%100 != 0 and y% 4==0):\n",
    "    print(This is a Leap year)\n",
    "\n"
   ]
  },
  {
   "cell_type": "code",
   "execution_count": 18,
   "metadata": {},
   "outputs": [
    {
     "name": "stdout",
     "output_type": "stream",
     "text": [
      "Enter a number:2\n",
      "Enetr starting number:50\n",
      "Enter ending number150\n",
      "number does not exists\n"
     ]
    }
   ],
   "source": [
    "# check if a number exists in a given range\n",
    "\n",
    "n= int(input(\"Enter a number:\"))\n",
    "S=int(input(\"Enetr starting number:\"))\n",
    "E= int(input(\"Enter ending number\"))\n",
    "\n",
    "if n>=S and n<=E:\n",
    "    print(\"Number Exsits\")\n",
    "else: \n",
    "    print(\"Number does not Exists\")"
   ]
  },
  {
   "cell_type": "code",
   "execution_count": 19,
   "metadata": {},
   "outputs": [],
   "source": [
    "# Calculate the no of digits in a given number\n",
    "# check if a number is mutiple of 10\n",
    "# Check if a number is a factor of 1000\n",
    "# check if given string is equal to a number\n",
    "# Calculate the square root of a number with our function\n",
    "# calculate the no of micro seconds in a given year(considering leap year logic)"
   ]
  },
  {
   "cell_type": "code",
   "execution_count": null,
   "metadata": {},
   "outputs": [],
   "source": [
    "#Calculate the no of digits in a given number\n",
    "digit = int(input(\"Enter a number:\"))\n",
    "\n"
   ]
  },
  {
   "cell_type": "code",
   "execution_count": 24,
   "metadata": {},
   "outputs": [
    {
     "name": "stdout",
     "output_type": "stream",
     "text": [
      "Enter a number:2\n",
      "2 number is not multiple of 10\n"
     ]
    }
   ],
   "source": [
    "# check if a number is mutiple of 10\n",
    "\n",
    "num = int(input(\"Enter a number:\"))\n",
    "\n",
    "if num%10 == 0:\n",
    "    print(num, \"number is multiple of 10\")\n",
    "else:\n",
    "    print(num, \"number is not multiple of 10\")"
   ]
  },
  {
   "cell_type": "code",
   "execution_count": 27,
   "metadata": {},
   "outputs": [
    {
     "name": "stdout",
     "output_type": "stream",
     "text": [
      "Enter a number:5\n",
      "5 number is a factor of 1000\n"
     ]
    }
   ],
   "source": [
    "# Check if a number is a factor of 1000\n",
    "\n",
    "n = int(input(\"Enter a number:\"))\n",
    "\n",
    "if 1000 % n==0:\n",
    "    print(n,\"number is a factor of 1000\")\n",
    "else:\n",
    "    print(n,\"number is not a factor of 1000\")"
   ]
  },
  {
   "cell_type": "code",
   "execution_count": 10,
   "metadata": {},
   "outputs": [
    {
     "name": "stdout",
     "output_type": "stream",
     "text": [
      "31536000000000000\n"
     ]
    }
   ],
   "source": [
    "# calculate the no of micro seconds in a given year(considering leap year logic)\n",
    "\n",
    "y=2019\n",
    "if y % 400 == 0 or (y%100 != 0 and y% 4==0):\n",
    "    s=366*24*60*60*10**9\n",
    "    print(s)\n",
    "else:\n",
    "    s=365*24*60*60*10**9\n",
    "    print(s)"
   ]
  },
  {
   "cell_type": "code",
   "execution_count": 13,
   "metadata": {},
   "outputs": [
    {
     "name": "stdout",
     "output_type": "stream",
     "text": [
      "Enter the Number:4\n",
      "2\n"
     ]
    }
   ],
   "source": [
    "# Calculate the square root of a number with our function\n",
    "s=int(input(\"Enter the Number:\"))\n",
    "squrt=s**0.5\n",
    "print(int(squrt))"
   ]
  },
  {
   "cell_type": "code",
   "execution_count": null,
   "metadata": {},
   "outputs": [],
   "source": [
    "# check if given string is equal to a number\n"
   ]
  }
 ],
 "metadata": {
  "kernelspec": {
   "display_name": "Python 3",
   "language": "python",
   "name": "python3"
  },
  "language_info": {
   "codemirror_mode": {
    "name": "ipython",
    "version": 3
   },
   "file_extension": ".py",
   "mimetype": "text/x-python",
   "name": "python",
   "nbconvert_exporter": "python",
   "pygments_lexer": "ipython3",
   "version": "3.7.3"
  }
 },
 "nbformat": 4,
 "nbformat_minor": 2
}
