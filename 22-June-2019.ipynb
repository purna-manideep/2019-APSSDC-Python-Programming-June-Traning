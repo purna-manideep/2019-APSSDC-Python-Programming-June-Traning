{
 "cells": [
  {
   "cell_type": "code",
   "execution_count": 18,
   "metadata": {},
   "outputs": [
    {
     "name": "stdout",
     "output_type": "stream",
     "text": [
      "<class '_io.TextIOWrapper'>\n"
     ]
    }
   ],
   "source": [
    "# Read a file - file shpould exits (read mode)\n",
    "# write to a file - existing(append) or new file\n",
    "\n",
    "def readfile(filepath):\n",
    "    with open(filepath, 'r') as f:\n",
    "        print(type(f))\n",
    "    return\n",
    "filepath='Data Files/data.txt'\n",
    "readfile(filepath)"
   ]
  },
  {
   "cell_type": "code",
   "execution_count": 23,
   "metadata": {},
   "outputs": [
    {
     "name": "stdout",
     "output_type": "stream",
     "text": [
      "15\n"
     ]
    }
   ],
   "source": [
    "# Function to find character count in a file\n",
    "def charcount(filepath):\n",
    "    with open(filepath, 'r') as f:\n",
    "        char=0\n",
    "        for i in f:\n",
    "            char=char+len(i)\n",
    "        print(char)\n",
    "filepath='Data Files/data.txt'\n",
    "charcount(filepath)"
   ]
  },
  {
   "cell_type": "code",
   "execution_count": 38,
   "metadata": {},
   "outputs": [
    {
     "name": "stdout",
     "output_type": "stream",
     "text": [
      "1\n"
     ]
    }
   ],
   "source": [
    "# Function to define number of lines count\n",
    "def linecount(filepath):\n",
    "    with open(filepath, 'r') as f:\n",
    "        char=0\n",
    "        for i in f:\n",
    "            char=char+1\n",
    "        print(char)\n",
    "filepath='Data Files/data.txt'\n",
    "linecount(filepath)"
   ]
  },
  {
   "cell_type": "code",
   "execution_count": 37,
   "metadata": {},
   "outputs": [
    {
     "name": "stdout",
     "output_type": "stream",
     "text": [
      "4\n"
     ]
    }
   ],
   "source": [
    "# Function to define wordcount\n",
    "def wordcount(filepath):\n",
    "    with open(filepath, 'r') as f:\n",
    "        count=0\n",
    "        for i in f:\n",
    "            li=i.split()\n",
    "            count=len(li)\n",
    "        print(count)\n",
    "filepath='Data Files/data.txt'\n",
    "wordcount(filepath)"
   ]
  },
  {
   "cell_type": "code",
   "execution_count": 2,
   "metadata": {},
   "outputs": [
    {
     "data": {
      "text/plain": [
       "[1, 2, 3]"
      ]
     },
     "execution_count": 2,
     "metadata": {},
     "output_type": "execute_result"
    }
   ],
   "source": [
    "# Function to define unique elements in a list\n",
    "\n",
    "# [1,2,3,3,2,1] -> [1,2,3]\n",
    "# Create a empty unique list [1,2,3]\n",
    "\n",
    "def uniquedata(li):\n",
    "    #create an empty unique list\n",
    "    unique =[]\n",
    "    \n",
    "    # For every element in the main list \n",
    "    # check if exists in the unique list\n",
    "    # If it does not exists add to unique list\n",
    "    # if it already exits, move on the next element\n",
    "    for element in li:\n",
    "        if element not in unique:\n",
    "            unique.append(element)\n",
    "    return unique\n",
    "li = [1,2,3,3,2,1]\n",
    "uniquedata(li)\n",
    "    \n",
    "\n"
   ]
  },
  {
   "cell_type": "code",
   "execution_count": 13,
   "metadata": {},
   "outputs": [
    {
     "data": {
      "text/plain": [
       "[24]"
      ]
     },
     "execution_count": 13,
     "metadata": {},
     "output_type": "execute_result"
    }
   ],
   "source": [
    "def uniquecount(filepath):\n",
    "    unique =[]\n",
    "    with open(filepath, 'r') as f:\n",
    "        for i in f:\n",
    "            if len(i) not in unique:\n",
    "                unique.append(len(i))\n",
    "        return unique\n",
    "filepath ='Data Files/data.txt'\n",
    "uniquecount(filepath)\n",
    "            "
   ]
  },
  {
   "cell_type": "code",
   "execution_count": 39,
   "metadata": {},
   "outputs": [
    {
     "name": "stdout",
     "output_type": "stream",
     "text": [
      "{'new': 3, 'hello': 3, 'data': 2, 'boy': 2, 'girl': 2, 'bharat': 2, 'sunil': 2}\n"
     ]
    }
   ],
   "source": [
    "# Function to find unique frequency\n",
    "def uniquecount(filepath):\n",
    "    unique ={}\n",
    "    with open(filepath, 'r') as f: # open a file by using filepath\n",
    "        file=f.read()              # Read a file\n",
    "        list=file.split()          # split the data\n",
    "        for i in list:             # each word in the file is assigning to i\n",
    "            if i in unique:        \n",
    "                unique[i]=unique[i]+1 # if data in unique add 1 with the word\n",
    "            else:\n",
    "                unique[i]=1           # if data already in unique add 1\n",
    "    print(unique)                     # print \n",
    "filepath ='Data Files/data.txt'\n",
    "uniquecount(filepath)"
   ]
  },
  {
   "cell_type": "code",
   "execution_count": 1,
   "metadata": {},
   "outputs": [
    {
     "ename": "FileNotFoundError",
     "evalue": "[Errno 2] No such file or directory: 'Data Files/data.txt'",
     "output_type": "error",
     "traceback": [
      "\u001b[1;31m---------------------------------------------------------------------------\u001b[0m",
      "\u001b[1;31mFileNotFoundError\u001b[0m                         Traceback (most recent call last)",
      "\u001b[1;32m<ipython-input-1-37d1c33ed566>\u001b[0m in \u001b[0;36m<module>\u001b[1;34m\u001b[0m\n\u001b[1;32m----> 1\u001b[1;33m \u001b[1;32mwith\u001b[0m \u001b[0mopen\u001b[0m\u001b[1;33m(\u001b[0m\u001b[1;34m'Data Files/data.txt'\u001b[0m\u001b[1;33m,\u001b[0m \u001b[1;34m'r'\u001b[0m\u001b[1;33m)\u001b[0m \u001b[1;32mas\u001b[0m \u001b[0mf\u001b[0m\u001b[1;33m:\u001b[0m\u001b[1;33m\u001b[0m\u001b[1;33m\u001b[0m\u001b[0m\n\u001b[0m\u001b[0;32m      2\u001b[0m     \u001b[0mfile\u001b[0m\u001b[1;33m=\u001b[0m\u001b[0mf\u001b[0m\u001b[1;33m.\u001b[0m\u001b[0mread\u001b[0m\u001b[1;33m(\u001b[0m\u001b[1;33m)\u001b[0m\u001b[1;33m\u001b[0m\u001b[1;33m\u001b[0m\u001b[0m\n\u001b[0;32m      3\u001b[0m     \u001b[0mli\u001b[0m\u001b[1;33m=\u001b[0m\u001b[0mfile\u001b[0m\u001b[1;33m.\u001b[0m\u001b[0msplit\u001b[0m\u001b[1;33m(\u001b[0m\u001b[1;33m)\u001b[0m\u001b[1;33m\u001b[0m\u001b[1;33m\u001b[0m\u001b[0m\n\u001b[0;32m      4\u001b[0m     \u001b[0mfilepath\u001b[0m \u001b[1;33m=\u001b[0m\u001b[1;34m'Data Files/data.txt'\u001b[0m\u001b[1;33m\u001b[0m\u001b[1;33m\u001b[0m\u001b[0m\n",
      "\u001b[1;31mFileNotFoundError\u001b[0m: [Errno 2] No such file or directory: 'Data Files/data.txt'"
     ]
    }
   ],
   "source": [
    "with open('Data Files/data.txt', 'r') as f:\n",
    "    file=f.read()\n",
    "    li=file.split()\n",
    "    filepath ='Data Files/data.txt'\n"
   ]
  },
  {
   "cell_type": "code",
   "execution_count": null,
   "metadata": {},
   "outputs": [],
   "source": []
  }
 ],
 "metadata": {
  "kernelspec": {
   "display_name": "Python 3",
   "language": "python",
   "name": "python3"
  },
  "language_info": {
   "codemirror_mode": {
    "name": "ipython",
    "version": 3
   },
   "file_extension": ".py",
   "mimetype": "text/x-python",
   "name": "python",
   "nbconvert_exporter": "python",
   "pygments_lexer": "ipython3",
   "version": "3.7.3"
  }
 },
 "nbformat": 4,
 "nbformat_minor": 2
}
