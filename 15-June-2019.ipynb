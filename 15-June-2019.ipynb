{
 "cells": [
  {
   "cell_type": "code",
   "execution_count": 3,
   "metadata": {},
   "outputs": [
    {
     "name": "stdout",
     "output_type": "stream",
     "text": [
      "1 10 1\n",
      "10\n"
     ]
    }
   ],
   "source": [
    "#You have been given 3 integers - l, r and k.\n",
    "#Find how many numbers between l and r (both inclusive) are divisible by k. \n",
    "#You do not need to print these numbers,you just have to find their count.\n",
    "l,r,k=[int(x) for x in input().split()]\n",
    "res=0;\n",
    "for i in range(l,r+1):\n",
    "    if(i%k==0):\n",
    "        res+=1;\n",
    "print(res)"
   ]
  },
  {
   "cell_type": "code",
   "execution_count": 4,
   "metadata": {},
   "outputs": [
    {
     "name": "stdout",
     "output_type": "stream",
     "text": [
      "12\n",
      "479001600\n"
     ]
    }
   ],
   "source": [
    "#You have been given a positive integer N. \n",
    "#You need to find and print the Factorial of this number. \n",
    "#The Factorial of a positive integer N refers to the product of all number in the range from 1 to N.\n",
    "import math\n",
    "print(math.factorial(int(input())))"
   ]
  },
  {
   "cell_type": "code",
   "execution_count": 9,
   "metadata": {},
   "outputs": [
    {
     "name": "stdout",
     "output_type": "stream",
     "text": [
      "HeLLOwOrLD\n",
      "hElloWoRld\n"
     ]
    }
   ],
   "source": [
    "#You have been given a String S consisting of uppercase and lowercase English alphabets. \n",
    "#You need to change the case of each alphabet in this String. \n",
    "#That is, all the uppercase letters should be converted to lowercase \n",
    "#and all the lowercase letters should be converted to uppercase. \n",
    "#You need to then print the resultant String to output.\n",
    "print(input().swapcase())\n"
   ]
  },
  {
   "cell_type": "code",
   "execution_count": 8,
   "metadata": {},
   "outputs": [
    {
     "name": "stdout",
     "output_type": "stream",
     "text": [
      "racecar\n",
      "YES\n"
     ]
    }
   ],
   "source": [
    "#You have been given a String S. \n",
    "#You need to find and print whether this string is a palindrome or not. \n",
    "#If yes, print \"YES\" (without quotes), else print \"NO\" (without quotes).\n",
    "def palindrome(s):\n",
    "    if(s==s[::-1]):\n",
    "        return True\n",
    "    else:\n",
    "        return False\n",
    "s=input()\n",
    "if(palindrome(s)):\n",
    "    print(\"YES\")\n",
    "else:\n",
    "    print(\"NO\")"
   ]
  },
  {
   "cell_type": "code",
   "execution_count": 6,
   "metadata": {},
   "outputs": [
    {
     "name": "stdout",
     "output_type": "stream",
     "text": [
      "100\n",
      "2 3 5 7 11 13 17 19 23 29 31 37 41 43 47 53 59 61 67 71 73 79 83 89 97 "
     ]
    }
   ],
   "source": [
    "#You are given an integer N. You need to print the series of all prime numbers till N.\n",
    "def prime(n):\n",
    "    for i in range(2,n):\n",
    "        if(n%i==0):\n",
    "            return False\n",
    "    return True\n",
    "n=int(input());\n",
    "for i in range(2,n+1):\n",
    "    if(prime(i)):\n",
    "        print(i,end=\" \")"
   ]
  },
  {
   "cell_type": "code",
   "execution_count": 12,
   "metadata": {},
   "outputs": [
    {
     "name": "stdout",
     "output_type": "stream",
     "text": [
      "3\n",
      "sumit mitsu\n",
      "YES\n",
      "ambuj jumba\n",
      "YES\n",
      "abhi hibb\n",
      "NO\n"
     ]
    }
   ],
   "source": [
    "#Given two strings of equal length, you have to tell whether they both strings are identical.\n",
    "\n",
    "#Two strings S1 and S2 are said to be identical,\n",
    "#if any of the permutation of string S1 is equal to the string S2\n",
    "for _ in range(int(input())):\n",
    "    s,k=[list(x) for x in input().split()]\n",
    "    s.sort()\n",
    "    k.sort()\n",
    "    if(s==k):\n",
    "        print(\"YES\");\n",
    "    else:\n",
    "        print(\"NO\");"
   ]
  },
  {
   "cell_type": "code",
   "execution_count": 14,
   "metadata": {},
   "outputs": [
    {
     "name": "stdout",
     "output_type": "stream",
     "text": [
      "2\n",
      "1 44 2 14\n",
      "0 30\n",
      "2 42 8 23\n",
      "5 41\n"
     ]
    }
   ],
   "source": [
    "#count the durations for each work\n",
    "for _ in range(int(input())):\n",
    "    sh,sm,eh,em=[int(x) for x in input().split()];\n",
    "    res=0;\n",
    "    res=res+(60-sm)\n",
    "    sh+=1;\n",
    "    res=res+em;\n",
    "    resh=(eh-sh);\n",
    "    resm=0\n",
    "    if(res>=60):\n",
    "        resh+=1;\n",
    "        resm=resm+(60-res);\n",
    "    else:\n",
    "        resm=resm+res;\n",
    "    print(resh,abs(resm))"
   ]
  },
  {
   "cell_type": "code",
   "execution_count": 15,
   "metadata": {},
   "outputs": [
    {
     "name": "stdout",
     "output_type": "stream",
     "text": [
      "aba\n",
      "4\n"
     ]
    }
   ],
   "source": [
    "#Here we consider each alphabet from a to z to have a certain weight. \n",
    "#The weight of the alphabet a is considered to be 1, b to be 2, c to be 3 and so on until z has a weight of 26.\n",
    "res=0;\n",
    "for ele in input():\n",
    "    res=res+(ord(ele)-96);\n",
    "print(res)"
   ]
  },
  {
   "cell_type": "code",
   "execution_count": 16,
   "metadata": {},
   "outputs": [
    {
     "name": "stdout",
     "output_type": "stream",
     "text": [
      "5 3\n",
      "1 2 3 4 5\n",
      "1 3\n",
      "2\n",
      "2 4\n",
      "3\n",
      "2 5\n",
      "3\n"
     ]
    }
   ],
   "source": [
    "#You are given an array of n numbers and q queries. \n",
    "#For each query you have to print the floor of the expected value(mean) of the subarray from L to R.\n",
    "n,k=[int(x) for x in input().split()]\n",
    "l=[int(x) for x in input().split()]\n",
    "sa=[]\n",
    "s=0;\n",
    "for i in range(len(l)):\n",
    "    s=s+l[i];\n",
    "    sa.append(s);\n",
    "#print(sa)\n",
    "for j in range(k):\n",
    "    x,y=[int(x) for x in input().split()];\n",
    "    count=(y-x)+1\n",
    "    #print(count)\n",
    "    if(x==1):\n",
    "        print((sa[y-1])//count)\n",
    "    else:\n",
    "        #print(sa[y-1]-sa[x-1])\n",
    "        print((sa[y-1]-sa[x-2])//count);"
   ]
  },
  {
   "cell_type": "code",
   "execution_count": null,
   "metadata": {},
   "outputs": [],
   "source": []
  }
 ],
 "metadata": {
  "kernelspec": {
   "display_name": "Python 3",
   "language": "python",
   "name": "python3"
  },
  "language_info": {
   "codemirror_mode": {
    "name": "ipython",
    "version": 3
   },
   "file_extension": ".py",
   "mimetype": "text/x-python",
   "name": "python",
   "nbconvert_exporter": "python",
   "pygments_lexer": "ipython3",
   "version": "3.7.3"
  }
 },
 "nbformat": 4,
 "nbformat_minor": 2
}
