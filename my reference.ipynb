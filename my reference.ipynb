{
 "cells": [
  {
   "cell_type": "code",
   "execution_count": 1,
   "metadata": {},
   "outputs": [
    {
     "name": "stdout",
     "output_type": "stream",
     "text": [
      "1\n",
      "10\n",
      "1\n",
      "10\n"
     ]
    }
   ],
   "source": [
    "# You have been given 3 integers - l, r and k. Find how many numbers between l and r (both inclusive) are divisible by k. You do not need to print these numbers, you just have to find their count.\n",
    "\n",
    "i,j,k=[int(x) for x in input().split()]\n",
    "\n",
    "def countDivisors(i,j,k):\n",
    "    c=0\n",
    "    for m in range(i,j+1):\n",
    "        if m%k==0:\n",
    "            c+=1\n",
    "    print(c)\n",
    "\n",
    "s=input()\n",
    "\n",
    "s=s.split()\n",
    "\n",
    "i=int(n)\n",
    "\n",
    "j=int(n)\n",
    "\n",
    "k=int(n)\n",
    "\n",
    "countDivisors(i,j,k)\n",
    "            \n",
    "            "
   ]
  },
  {
   "cell_type": "code",
   "execution_count": null,
   "metadata": {},
   "outputs": [],
   "source": []
  },
  {
   "cell_type": "code",
   "execution_count": null,
   "metadata": {},
   "outputs": [],
   "source": [
    "a,b,c=[int(x)]\n",
    "c"
   ]
  },
  {
   "cell_type": "code",
   "execution_count": null,
   "metadata": {},
   "outputs": [],
   "source": [
    "s=str(input())\n",
    "\n",
    "s1=s.swapcase()\n",
    "\n",
    "print(s1)"
   ]
  },
  {
   "cell_type": "code",
   "execution_count": null,
   "metadata": {},
   "outputs": [],
   "source": [
    "# Python Program to Toggle Characters Case in a String\n",
    " \n"
   ]
  },
  {
   "cell_type": "code",
   "execution_count": null,
   "metadata": {},
   "outputs": [],
   "source": []
  },
  {
   "cell_type": "code",
   "execution_count": 4,
   "metadata": {},
   "outputs": [
    {
     "name": "stdout",
     "output_type": "stream",
     "text": [
      "deed\n",
      "yes\n"
     ]
    }
   ],
   "source": []
  },
  {
   "cell_type": "code",
   "execution_count": 8,
   "metadata": {},
   "outputs": [
    {
     "name": "stdout",
     "output_type": "stream",
     "text": [
      "aba\n",
      "YES\n"
     ]
    }
   ],
   "source": [
    "s=input()\n",
    "s1=s[::-1]\n",
    "if(s==s1):\n",
    "    print(\"YES\")\n",
    "else:\n",
    "    print(\"NO\")"
   ]
  },
  {
   "cell_type": "code",
   "execution_count": 1,
   "metadata": {},
   "outputs": [
    {
     "name": "stdout",
     "output_type": "stream",
     "text": [
      "20\n",
      "2 3 5 7 11 13 17 19 "
     ]
    }
   ],
   "source": [
    "# N prime numbers finding\n",
    "\n",
    "s=int(input())\n",
    "\n",
    "for num in range(s + 1):\n",
    "   # prime numbers are greater than 1\n",
    "   if num > 1:\n",
    "       for i in range(2,num):\n",
    "           if (num % i) == 0:\n",
    "               break\n",
    "       else:\n",
    "           print(num,end=\" \")"
   ]
  },
  {
   "cell_type": "code",
   "execution_count": 2,
   "metadata": {},
   "outputs": [
    {
     "data": {
      "text/plain": [
       "24"
      ]
     },
     "execution_count": 2,
     "metadata": {},
     "output_type": "execute_result"
    }
   ],
   "source": [
    "def fact(n):\n",
    "    if n==1:\n",
    "        return 1\n",
    "    else:\n",
    "        return (n*fact(n-1))\n",
    "r=fact(4)\n",
    "r"
   ]
  },
  {
   "cell_type": "code",
   "execution_count": null,
   "metadata": {},
   "outputs": [],
   "source": []
  },
  {
   "cell_type": "code",
   "execution_count": null,
   "metadata": {},
   "outputs": [],
   "source": [
    "#Pr:Durations\n",
    "def minutedifference(s):\n",
    "    s=s.split()\n",
    "    sh=int(s[0])\n",
    "    sm=int(s[1])\n",
    "    eh=int(s[2])\n",
    "    em=int(s[3])\n",
    "    startminutes=(sh*60)+sm\n",
    "    endminutes=(eh*60)+em\n",
    "    return endminutes-startminutes\n",
    "def outputTimeFormat(minutes):\n",
    "    hh=minutes//60\n",
    "    mm=minutes%60\n",
    "    print(hh,mm)\n",
    "    return\n",
    "\n",
    "n=int(input())\n",
    "\n",
    "for i in range(0,n):\n",
    "    s=input()\n",
    "    minutes=minutedifference(s)\n",
    "    outputTimeFormat(minutes)"
   ]
  },
  {
   "cell_type": "code",
   "execution_count": 13,
   "metadata": {},
   "outputs": [
    {
     "name": "stdout",
     "output_type": "stream",
     "text": [
      "3\n",
      "mani inam\n",
      "YES\n",
      "abc cba\n",
      "YES\n",
      "sds\n"
     ]
    },
    {
     "ename": "ValueError",
     "evalue": "not enough values to unpack (expected 2, got 1)",
     "output_type": "error",
     "traceback": [
      "\u001b[1;31m---------------------------------------------------------------------------\u001b[0m",
      "\u001b[1;31mValueError\u001b[0m                                Traceback (most recent call last)",
      "\u001b[1;32m<ipython-input-13-85c14c663189>\u001b[0m in \u001b[0;36m<module>\u001b[1;34m\u001b[0m\n\u001b[0;32m      1\u001b[0m \u001b[1;32mfor\u001b[0m \u001b[0m_\u001b[0m \u001b[1;32min\u001b[0m \u001b[0mrange\u001b[0m\u001b[1;33m(\u001b[0m\u001b[0mint\u001b[0m\u001b[1;33m(\u001b[0m\u001b[0minput\u001b[0m\u001b[1;33m(\u001b[0m\u001b[1;33m)\u001b[0m\u001b[1;33m)\u001b[0m\u001b[1;33m)\u001b[0m\u001b[1;33m:\u001b[0m\u001b[1;33m\u001b[0m\u001b[1;33m\u001b[0m\u001b[0m\n\u001b[1;32m----> 2\u001b[1;33m     \u001b[0ms\u001b[0m\u001b[1;33m,\u001b[0m\u001b[0mk\u001b[0m\u001b[1;33m=\u001b[0m\u001b[1;33m[\u001b[0m\u001b[0mlist\u001b[0m\u001b[1;33m(\u001b[0m\u001b[0mx\u001b[0m\u001b[1;33m)\u001b[0m \u001b[1;32mfor\u001b[0m \u001b[0mx\u001b[0m \u001b[1;32min\u001b[0m \u001b[0minput\u001b[0m\u001b[1;33m(\u001b[0m\u001b[1;33m)\u001b[0m\u001b[1;33m.\u001b[0m\u001b[0msplit\u001b[0m\u001b[1;33m(\u001b[0m\u001b[1;33m)\u001b[0m\u001b[1;33m]\u001b[0m\u001b[1;33m\u001b[0m\u001b[1;33m\u001b[0m\u001b[0m\n\u001b[0m\u001b[0;32m      3\u001b[0m     \u001b[0ms\u001b[0m\u001b[1;33m.\u001b[0m\u001b[0msort\u001b[0m\u001b[1;33m(\u001b[0m\u001b[1;33m)\u001b[0m\u001b[1;33m\u001b[0m\u001b[1;33m\u001b[0m\u001b[0m\n\u001b[0;32m      4\u001b[0m     \u001b[0mk\u001b[0m\u001b[1;33m.\u001b[0m\u001b[0msort\u001b[0m\u001b[1;33m(\u001b[0m\u001b[1;33m)\u001b[0m\u001b[1;33m\u001b[0m\u001b[1;33m\u001b[0m\u001b[0m\n\u001b[0;32m      5\u001b[0m     \u001b[1;32mif\u001b[0m\u001b[1;33m(\u001b[0m\u001b[0ms\u001b[0m\u001b[1;33m==\u001b[0m\u001b[0mk\u001b[0m\u001b[1;33m)\u001b[0m\u001b[1;33m:\u001b[0m\u001b[1;33m\u001b[0m\u001b[1;33m\u001b[0m\u001b[0m\n",
      "\u001b[1;31mValueError\u001b[0m: not enough values to unpack (expected 2, got 1)"
     ]
    }
   ],
   "source": [
    "for _ in range(int(input())):\n",
    "    s,k=[list(x) for x in input().split()]\n",
    "    s.sort()\n",
    "    k.sort()\n",
    "    if(s==k):\n",
    "        print(\"YES\");\n",
    "    else:\n",
    "        print(\"NO\");"
   ]
  },
  {
   "cell_type": "code",
   "execution_count": 4,
   "metadata": {},
   "outputs": [
    {
     "name": "stdout",
     "output_type": "stream",
     "text": [
      "abc cab\n",
      "YES\n"
     ]
    }
   ],
   "source": [
    "s=input().split()\n",
    "a=s[0];\n",
    "b=s[1];\n",
    "if sorted(a)==sorted(b):\n",
    "    print(\"YES\")\n",
    "else:\n",
    "    print(\"NO\")"
   ]
  },
  {
   "cell_type": "code",
   "execution_count": 12,
   "metadata": {},
   "outputs": [
    {
     "name": "stdout",
     "output_type": "stream",
     "text": [
      "manid 123 ##$\n"
     ]
    },
    {
     "data": {
      "text/plain": [
       "(8, 0, 2, 3)"
      ]
     },
     "execution_count": 12,
     "metadata": {},
     "output_type": "execute_result"
    }
   ],
   "source": [
    "# write a python program to find the number of digits and characters in a string\n",
    "\n",
    "x = input()\n",
    "\n",
    "def is_Digit_Char(x):\n",
    "    length = len(x)\n",
    "    digit = 0\n",
    "    letters = 0\n",
    "    space = 0\n",
    "    other = 0\n",
    "    for i in s:\n",
    "        if i.isalpha():\n",
    "            letters+=1\n",
    "        elif i.isnumeric():\n",
    "            digit+=1\n",
    "        elif i.isspace():\n",
    "            space+=1\n",
    "        else:\n",
    "            other+=1\n",
    "    return letters,digit,space,other\n",
    "\n",
    "y=is_Digit_Char(x)\n",
    "y"
   ]
  },
  {
   "cell_type": "code",
   "execution_count": null,
   "metadata": {},
   "outputs": [],
   "source": [
    "# play with Numbers\n",
    "\n",
    "n=input().split() # splits the input based on space\n",
    "n[0],n[1]=int(n[0]),int(n[1])\n",
    "\n",
    "a=input().split()\n",
    "\n",
    "sum=[]\n",
    "\n",
    "# cumlative sum\n",
    "\n",
    "for i in range(0,n[0]):\n",
    "    if i==0:\n",
    "        sum.append(int(sum[i-1])+\n"
   ]
  },
  {
   "cell_type": "code",
   "execution_count": 14,
   "metadata": {},
   "outputs": [
    {
     "name": "stdout",
     "output_type": "stream",
     "text": [
      "manideep\n",
      "67\n"
     ]
    }
   ],
   "source": [
    "#Here we consider each alphabet from a to z to have a certain weight. \n",
    "#The weight of the alphabet a is considered to be 1, b to be 2, c to be 3 and so on until z has a weight of 26.\n",
    "res=0;\n",
    "for ele in input():\n",
    "    res=res+(ord(ele)-96);\n",
    "print(res)"
   ]
  },
  {
   "cell_type": "code",
   "execution_count": null,
   "metadata": {},
   "outputs": [
    {
     "name": "stdout",
     "output_type": "stream",
     "text": [
      "5 3\n",
      "1 2 3 4 5\n",
      "1 2\n",
      "1\n"
     ]
    }
   ],
   "source": [
    "#You are given an array of n numbers and q queries. \n",
    "#For each query you have to print the floor of the expected value(mean) of the subarray from L to R.\n",
    "n,k=[int(x) for x in input().split()]\n",
    "l=[int(x) for x in input().split()]\n",
    "sa=[]\n",
    "s=0;\n",
    "for i in range(len(l)):\n",
    "    s=s+l[i];\n",
    "    sa.append(s);\n",
    "#print(sa)\n",
    "for j in range(k):\n",
    "    x,y=[int(x) for x in input().split()];\n",
    "    count=(y-x)+1\n",
    "    #print(count)\n",
    "    if(x==1):\n",
    "        print((sa[y-1])//count)\n",
    "    else:\n",
    "        #print(sa[y-1]-sa[x-1])\n",
    "        print((sa[y-1]-sa[x-2])//count);"
   ]
  },
  {
   "cell_type": "code",
   "execution_count": null,
   "metadata": {},
   "outputs": [],
   "source": []
  },
  {
   "cell_type": "code",
   "execution_count": 4,
   "metadata": {},
   "outputs": [
    {
     "data": {
      "text/plain": [
       "True"
      ]
     },
     "execution_count": 4,
     "metadata": {},
     "output_type": "execute_result"
    }
   ],
   "source": [
    "# Function to deternime if a number is a special number\n",
    "\n",
    "#Function to check if number is Prime\n",
    "# Function to determine number of prime factors\n",
    "\n",
    "def is_Prime(n):\n",
    "    flag=1\n",
    "    if n==2:\n",
    "        return True\n",
    "    for i in range(2,n//2+1):\n",
    "        if n%i==0:\n",
    "            flag=0\n",
    "            return False\n",
    "    if flag==1:\n",
    "        return True\n",
    "\n",
    "def numberPrimeFactor(n):\n",
    "    if is_Prime(n):\n",
    "        return 1\n",
    "    count=0\n",
    "    for i in range(2,n//2+1):\n",
    "        if is_Prime(i) and n%i\n"
   ]
  },
  {
   "cell_type": "code",
   "execution_count": 11,
   "metadata": {},
   "outputs": [
    {
     "name": "stdout",
     "output_type": "stream",
     "text": [
      "1\n",
      "manj\n",
      "jumangi\n",
      "3\n"
     ]
    }
   ],
   "source": [
    "for _ in range(int(input())):\n",
    "    a=input()\n",
    "    b=input()\n",
    "    a1=[0]*26\n",
    "    b1=[0]*26\n",
    "    for ele in a:\n",
    "        a1[ord(ele)-97]+=1;\n",
    "    for ele in b:\n",
    "        b1[ord(ele)-97]+=1;\n",
    "    res=0;\n",
    "    for i in range(26):\n",
    "        res=res+(abs(a1[i]-b1[i]));\n",
    "    print(res);\n",
    "        "
   ]
  },
  {
   "cell_type": "code",
   "execution_count": 14,
   "metadata": {},
   "outputs": [
    {
     "name": "stdout",
     "output_type": "stream",
     "text": [
      "5\n",
      "1 2 3 4 5\n",
      "120\n"
     ]
    }
   ],
   "source": [
    "# Python3 program to find  \n",
    "# product of array elements. using modulo 10**9+7\n",
    "n=int(input())\n",
    "x = [int(i) for i in input().split()]\n",
    "\n",
    "def product(x,n):\n",
    "    y=1\n",
    "    for i in range(n):\n",
    "        y=(y*x[i])%(10**9+7)\n",
    "    return y\n",
    "\n",
    "print(product(x,n))     \n",
    "  "
   ]
  },
  {
   "cell_type": "code",
   "execution_count": null,
   "metadata": {},
   "outputs": [
    {
     "name": "stdout",
     "output_type": "stream",
     "text": [
      "2\n",
      "1\n",
      "12 WS\n"
     ]
    }
   ],
   "source": [
    "def seat(seno) :\n",
    "    if(seno%12 <= 6 and seno%12 !=0 ):\n",
    "        side=seno%6\n",
    "        if(side==1):\n",
    "             print(seno+11, \"WS\")\n",
    "        if(side==2):\n",
    "            print(seno+9, \"MS\")\n",
    "        if(side==3):\n",
    "            print(seno+7, \"AS\")\n",
    "        if(side==4):\n",
    "            print(seno+5, \"AS\")\n",
    "        if(side==5):\n",
    "            print(seno+3, \"MS\")\n",
    "        if(side==0):\n",
    "            print(seno+1, \"WS\")     \n",
    "    else:\n",
    "        side=seno%6\n",
    "        if(side==1):\n",
    "             print(seno-1, \"WS\")\n",
    "        if(side==2):\n",
    "            print(seno-3, \"MS\")\n",
    "        if(side==3):\n",
    "            print(seno-5, \"AS\")\n",
    "        if(side==4):\n",
    "            print(seno-7, \"AS\")\n",
    "        if(side==5):\n",
    "            print(seno-9, \"MS\")\n",
    "        if(side==0):\n",
    "            print(seno-11, \"WS\") \n",
    "\n",
    "\n",
    "totalseat=int(input());\n",
    "for i in range (0,totalseat) :\n",
    "     seno=int(input());\n",
    "     seat(seno);"
   ]
  },
  {
   "cell_type": "code",
   "execution_count": null,
   "metadata": {},
   "outputs": [],
   "source": [
    "n=int(input())\n",
    "c=n\n",
    "for i in range(n):\n",
    "    p=p+1\n",
    "    m=m+i*2\n",
    "    c=c-i-i*2\n",
    "    if p+m<n and c<i:\n",
    "        print(\"Patlu\")\n",
    "    else:\n",
    "        print(\"Motu\")\n"
   ]
  },
  {
   "cell_type": "code",
   "execution_count": 4,
   "metadata": {},
   "outputs": [
    {
     "name": "stdout",
     "output_type": "stream",
     "text": [
      "2\n",
      "3\n",
      "1 2\n",
      "2 3\n",
      "4 2\n"
     ]
    },
    {
     "ename": "NameError",
     "evalue": "name 'ls' is not defined",
     "output_type": "error",
     "traceback": [
      "\u001b[1;31m---------------------------------------------------------------------------\u001b[0m",
      "\u001b[1;31mNameError\u001b[0m                                 Traceback (most recent call last)",
      "\u001b[1;32m<ipython-input-4-fd42cd1bdfd2>\u001b[0m in \u001b[0;36m<module>\u001b[1;34m\u001b[0m\n\u001b[0;32m      3\u001b[0m \u001b[1;32mfor\u001b[0m \u001b[0mj\u001b[0m \u001b[1;32min\u001b[0m \u001b[0mrange\u001b[0m\u001b[1;33m(\u001b[0m\u001b[0mn\u001b[0m\u001b[1;33m)\u001b[0m\u001b[1;33m:\u001b[0m\u001b[1;33m\u001b[0m\u001b[1;33m\u001b[0m\u001b[0m\n\u001b[0;32m      4\u001b[0m     \u001b[0mw\u001b[0m\u001b[1;33m,\u001b[0m\u001b[0mh\u001b[0m\u001b[1;33m=\u001b[0m\u001b[1;33m[\u001b[0m\u001b[0mint\u001b[0m\u001b[1;33m(\u001b[0m\u001b[0mi\u001b[0m\u001b[1;33m)\u001b[0m \u001b[1;32mfor\u001b[0m \u001b[0mi\u001b[0m \u001b[1;32min\u001b[0m \u001b[0minput\u001b[0m\u001b[1;33m(\u001b[0m\u001b[1;33m)\u001b[0m\u001b[1;33m.\u001b[0m\u001b[0msplit\u001b[0m\u001b[1;33m(\u001b[0m\u001b[1;33m)\u001b[0m\u001b[1;33m]\u001b[0m\u001b[1;33m\u001b[0m\u001b[1;33m\u001b[0m\u001b[0m\n\u001b[1;32m----> 5\u001b[1;33m \u001b[0mw\u001b[0m\u001b[1;33m=\u001b[0m\u001b[0mls\u001b[0m\u001b[1;33m(\u001b[0m\u001b[0mw\u001b[0m\u001b[1;33m)\u001b[0m\u001b[1;33m\u001b[0m\u001b[1;33m\u001b[0m\u001b[0m\n\u001b[0m\u001b[0;32m      6\u001b[0m \u001b[0mtype\u001b[0m\u001b[1;33m(\u001b[0m\u001b[0mw\u001b[0m\u001b[1;33m)\u001b[0m\u001b[1;33m\u001b[0m\u001b[1;33m\u001b[0m\u001b[0m\n",
      "\u001b[1;31mNameError\u001b[0m: name 'ls' is not defined"
     ]
    }
   ],
   "source": [
    "l=int(input())\n",
    "n=int(input())\n",
    "for j in range(n):\n",
    "    w,h=[int(i) for i in input().split()]\n",
    "type(w)"
   ]
  },
  {
   "cell_type": "code",
   "execution_count": 2,
   "metadata": {},
   "outputs": [],
   "source": [
    "import tkinter as tk \n",
    "r = tk.Tk() \n",
    "r.title('Counting Seconds') \n",
    "button = tk.Button(r, text='Stop', width=25, command=r.destroy) \n",
    "button.pack() \n",
    "r.mainloop() "
   ]
  },
  {
   "cell_type": "code",
   "execution_count": null,
   "metadata": {},
   "outputs": [],
   "source": [
    "# Write a program to print the sum of all the elements of an array of size 4.\n",
    "\n",
    "numArray = map(int, input().split()) # Get the input\n",
    "\n",
    "sum_integer = 0\n",
    "# write your logic to add these 4 numbers here\n",
    "for i in numArray:\n",
    "    sum_integer=sum_integer+i\n",
    "\n",
    "\n",
    "\n",
    "print(sum_integer) # Print the sum"
   ]
  },
  {
   "cell_type": "code",
   "execution_count": 5,
   "metadata": {},
   "outputs": [
    {
     "ename": "SyntaxError",
     "evalue": "invalid syntax (<ipython-input-5-1bb86961ead5>, line 3)",
     "output_type": "error",
     "traceback": [
      "\u001b[1;36m  File \u001b[1;32m\"<ipython-input-5-1bb86961ead5>\"\u001b[1;36m, line \u001b[1;32m3\u001b[0m\n\u001b[1;33m    s==123abc456de\u001b[0m\n\u001b[1;37m                 ^\u001b[0m\n\u001b[1;31mSyntaxError\u001b[0m\u001b[1;31m:\u001b[0m invalid syntax\n"
     ]
    }
   ],
   "source": [
    "# Program to find the frequency of a string which consists of alphabates and numbers\n",
    "\n",
    "s==123abc456de\n",
    "def degitFrequency(s):\n",
    "    uni=[]\n",
    "    allnumbers=[]\n",
    "    for u in s:\n",
    "        if i.isdigit():\n",
    "            allnumbers.append(i)\n",
    "    unique=uniqueData(allnumbers)\n",
    "    for e in range(0,10):\n",
    "        if u not in unique:\n",
    "            print(0,end=\"\")\n",
    "        else:\n",
    "            count=allnumbers.count(str(i))\n",
    "            print(count,end=\"\")\n",
    "def uniqueData(allnumbers):\n",
    "    unique=[]\n",
    "    for all in allnumbers:\n",
    "        if all not in unique:\n",
    "            unique.append(n)\n",
    "    return unique"
   ]
  },
  {
   "cell_type": "code",
   "execution_count": 6,
   "metadata": {},
   "outputs": [
    {
     "ename": "SyntaxError",
     "evalue": "invalid syntax (<ipython-input-6-3d2dfc45cbd0>, line 1)",
     "output_type": "error",
     "traceback": [
      "\u001b[1;36m  File \u001b[1;32m\"<ipython-input-6-3d2dfc45cbd0>\"\u001b[1;36m, line \u001b[1;32m1\u001b[0m\n\u001b[1;33m    digitFrequency(s):\u001b[0m\n\u001b[1;37m                      ^\u001b[0m\n\u001b[1;31mSyntaxError\u001b[0m\u001b[1;31m:\u001b[0m invalid syntax\n"
     ]
    }
   ],
   "source": [
    "digitFrequency(s):\n",
    "    for i in range(0,10):\n",
    "        count=s.count(str(i))"
   ]
  },
  {
   "cell_type": "code",
   "execution_count": null,
   "metadata": {},
   "outputs": [],
   "source": [
    "for j in range(n):\n",
    "    if (w<l) or (h<l):\n",
    "        print(\"UPLOAD ANOTHER\")\n",
    "    if ((w==l) and (h==l)):\n",
    "        print(\"ACCEPTED\")\n",
    "    if w>l and h>l:\n",
    "        print(\"ACCEPTED\")\n",
    "    else:\n",
    "        print(\"CROP IT\")\n",
    "    "
   ]
  }
 ],
 "metadata": {
  "kernelspec": {
   "display_name": "Python 3",
   "language": "python",
   "name": "python3"
  },
  "language_info": {
   "codemirror_mode": {
    "name": "ipython",
    "version": 3
   },
   "file_extension": ".py",
   "mimetype": "text/x-python",
   "name": "python",
   "nbconvert_exporter": "python",
   "pygments_lexer": "ipython3",
   "version": "3.7.3"
  }
 },
 "nbformat": 4,
 "nbformat_minor": 2
}
