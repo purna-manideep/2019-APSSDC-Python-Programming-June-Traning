{
 "cells": [
  {
   "cell_type": "markdown",
   "metadata": {},
   "source": [
    "### Day Objectives\n",
    "### 14-June-2019\n",
    "* Python Data Structures\n",
    "    * Lists\n",
    "    * Tuples\n",
    "    * Dictionaries\n",
    "* Basic Problem set on Data Structures\n",
    "* Advanced Problem Set\n",
    "* Packages and Modules in Python\n"
   ]
  },
  {
   "cell_type": "markdown",
   "metadata": {},
   "source": [
    "### Python Data Structures\n",
    "\n",
    "   * ## Lists"
   ]
  },
  {
   "cell_type": "code",
   "execution_count": 8,
   "metadata": {},
   "outputs": [
    {
     "data": {
      "text/plain": [
       "[978]"
      ]
     },
     "execution_count": 8,
     "metadata": {},
     "output_type": "execute_result"
    }
   ],
   "source": [
    "# in python programming the list are declerad inside of square brackets\n",
    "\n",
    "li=[123,978,654]\n",
    "\n",
    "li # li used the acces int entire elements in list\n",
    "\n",
    "li[1] #here in the line li[1] li represents the list and the 1 inbrackets represents the position\n",
    "\n",
    "li[1:]# here we are using the slicing operation in list to get data from list in a given range\n",
    "\n",
    "li[::-1] # to get the list in reverse order(note :it will writen the copy of list elements in reverse order)\n",
    "\n",
    "li =li[::-1] # using this code we can over write the list in reverse order\n",
    "\n",
    "li[::2]# accessing the even index element\n",
    "\n",
    "li[1::2]#\n",
    "\n",
    "li[1]"
   ]
  },
  {
   "cell_type": "markdown",
   "metadata": {},
   "source": [
    "### Data Manipulation using list"
   ]
  },
  {
   "cell_type": "markdown",
   "metadata": {},
   "source": [
    "* #### list canbe accessed and manipulated in two different ways \n",
    "    * #### Direct Referencing:it can be done using the index values of list\n",
    "    * #### Indirect Referencing: it can be done using the function "
   ]
  },
  {
   "cell_type": "code",
   "execution_count": 19,
   "metadata": {},
   "outputs": [
    {
     "data": {
      "text/plain": [
       "978"
      ]
     },
     "execution_count": 19,
     "metadata": {},
     "output_type": "execute_result"
    }
   ],
   "source": [
    "li.append(345)# Adding an element to the end of the list\n",
    "\n",
    "li.insert(5,235) #Adding the elements at a particular index\n",
    "\n",
    "li.sort() # it is used to sort the elements in the accending order\n",
    "\n",
    "li.pop() # remove the last element in list \n",
    "\n",
    "# "
   ]
  },
  {
   "cell_type": "code",
   "execution_count": 50,
   "metadata": {},
   "outputs": [
    {
     "data": {
      "text/plain": [
       "789"
      ]
     },
     "execution_count": 50,
     "metadata": {},
     "output_type": "execute_result"
    }
   ],
   "source": [
    "li.pop(3)# remove an element at a particular list\n",
    "\n"
   ]
  },
  {
   "cell_type": "code",
   "execution_count": 51,
   "metadata": {},
   "outputs": [
    {
     "data": {
      "text/plain": [
       "[123, 235, 654, 124, 245, 789]"
      ]
     },
     "execution_count": 51,
     "metadata": {},
     "output_type": "execute_result"
    }
   ],
   "source": [
    "li2=[124,245,789] # declearing the second list\n",
    "\n",
    "li.extend(li2)\n",
    "\n",
    "li"
   ]
  },
  {
   "cell_type": "code",
   "execution_count": 96,
   "metadata": {},
   "outputs": [
    {
     "data": {
      "text/plain": [
       "28.0"
      ]
     },
     "execution_count": 96,
     "metadata": {},
     "output_type": "execute_result"
    }
   ],
   "source": [
    "sum(li)# this is a predifined function used to sum the elements\n",
    "\n",
    "max(li)# this is a predifined function used to find  the higst element in list\n",
    "\n",
    "len(li)# this is a predifined function used to find  the length or number  of elements in  list\n",
    "\n",
    "avg=sum(li)/len(li) # Average of elements in list\n",
    "\n",
    "sum(li[::2])/len(li[::2])# sum of alternate values in list in evenposition\n",
    "\n",
    "sum(li[1::2])/len(li[1::2])# sum of alternate values in list in oddpositio"
   ]
  },
  {
   "cell_type": "code",
   "execution_count": 75,
   "metadata": {},
   "outputs": [
    {
     "data": {
      "text/plain": [
       "11"
      ]
     },
     "execution_count": 75,
     "metadata": {},
     "output_type": "execute_result"
    }
   ],
   "source": [
    "# Function to find the secong largest element \n",
    "# sort the data and select the secon last element\n",
    "# sort the data in reverse order and select the section\n",
    "#remove the max element and then get the max value\n",
    "# function for finding the second largest for unique element list \n",
    "li=[11,23,44,34,24]\n",
    "def secondlargestelement(li):\n",
    "    li.sort()\n",
    "    return li[-2]\n",
    "secondlargestelement(li)\n",
    "\n",
    "#function that return the nlargest \n",
    "def genericLargest(li,n):\n",
    "    li.sort()\n",
    "    return li[-n]\n",
    "\n",
    "genericLargest(li,5)\n",
    "\n"
   ]
  },
  {
   "cell_type": "code",
   "execution_count": 76,
   "metadata": {},
   "outputs": [],
   "source": [
    "# function to find the second largest value in non unique data in list\n",
    "def find_len(list1): \n",
    "    length = len(list1) \n",
    "    list1.sort() \n",
    "    print(\"Largest element is:\", list1[length-1]) \n",
    "    print(\"Smallest element is:\", list1[0]) \n",
    "    print(\"Second Largest element is:\", list1[length-2]) \n",
    "    print(\"Second Smallest element is:\", list1[1]) \n",
    "  \n",
    "# Driver Code \n",
    "list1=[12, 45, 2, 41, 31, 10, 8, 6, 4] \n",
    "Largest = find_len(list1) \n"
   ]
  },
  {
   "cell_type": "code",
   "execution_count": 94,
   "metadata": {},
   "outputs": [
    {
     "data": {
      "text/plain": [
       "0"
      ]
     },
     "execution_count": 94,
     "metadata": {},
     "output_type": "execute_result"
    }
   ],
   "source": [
    "# function to search for data in a list\n",
    "# search for the key in thelist and return index \n",
    "\n",
    "def linearSearch(li,key):\n",
    "    for index in range(0,len(li)):\n",
    "        if li[index]==key:\n",
    "            return index\n",
    "    return -1\n",
    "\n",
    "linearSearch(li,23)\n",
    "\n"
   ]
  },
  {
   "cell_type": "code",
   "execution_count": 95,
   "metadata": {},
   "outputs": [
    {
     "data": {
      "text/plain": [
       "0"
      ]
     },
     "execution_count": 95,
     "metadata": {},
     "output_type": "execute_result"
    }
   ],
   "source": [
    "\n",
    "def linearSearch3(li,key):\n",
    "    if key in li:\n",
    "        return li.index(key)\n",
    "    return -1\n",
    "linearSearch3(li,23)"
   ]
  },
  {
   "cell_type": "code",
   "execution_count": 8,
   "metadata": {},
   "outputs": [
    {
     "data": {
      "text/plain": [
       "0"
      ]
     },
     "execution_count": 8,
     "metadata": {},
     "output_type": "execute_result"
    }
   ],
   "source": [
    "li=[23,24,54,32]\n",
    "\n",
    "def linearSearch2(li,key):\n",
    "    for value in li:\n",
    "        if value==key:\n",
    "            return li.index(value)\n",
    "    return -1\n",
    "linearSearch2(li,23)"
   ]
  },
  {
   "cell_type": "code",
   "execution_count": 109,
   "metadata": {},
   "outputs": [
    {
     "data": {
      "text/plain": [
       "2"
      ]
     },
     "execution_count": 109,
     "metadata": {},
     "output_type": "execute_result"
    }
   ],
   "source": [
    "# Function to count the occurance of a character in a \n",
    "\n",
    "def countCharOccurance(s,c):\n",
    "    count=0\n",
    "    for ch in s:\n",
    "        if ch==c:\n",
    "            count+=1\n",
    "    return count\n",
    "countCharoccurances2(\"python\",'p')\n",
    "def countCharoccurances2(s,c):\n",
    "    return s.count(c)\n",
    "\n",
    "countCharoccurances2(\"python\",'py')\n",
    "\n",
    "\n",
    "countCharoccurances2(\"pypthon\",'p')"
   ]
  },
  {
   "cell_type": "code",
   "execution_count": 3,
   "metadata": {},
   "outputs": [
    {
     "data": {
      "text/plain": [
       "2"
      ]
     },
     "execution_count": 3,
     "metadata": {},
     "output_type": "execute_result"
    }
   ],
   "source": [
    "# Function to find the number of occurance of a substring in a string\n",
    "\n",
    "def countchar(str,c):\n",
    "    return str.count(c)\n",
    "countchar(\"manideep\",\"e\")"
   ]
  },
  {
   "cell_type": "code",
   "execution_count": 2,
   "metadata": {},
   "outputs": [
    {
     "name": "stdout",
     "output_type": "stream",
     "text": [
      "3\n"
     ]
    },
    {
     "data": {
      "text/plain": [
       "14"
      ]
     },
     "execution_count": 2,
     "metadata": {},
     "output_type": "execute_result"
    }
   ],
   "source": [
    "n=int(input())\n",
    "\n",
    "def sumSquaresNaturalNumbers(n):\n",
    "    sum=0\n",
    "    for i in range(1,n+1):\n",
    "        sum=sum+i**2\n",
    "    return sum\n",
    "sumSquaresNaturalNumbers(n)"
   ]
  },
  {
   "cell_type": "code",
   "execution_count": 15,
   "metadata": {},
   "outputs": [
    {
     "name": "stdout",
     "output_type": "stream",
     "text": [
      "2\n",
      "-1 1\n"
     ]
    }
   ],
   "source": [
    "n=int(input())\n",
    "s=input()\n",
    "s=s.split()\n",
    "# 1,2,3,4\n",
    "li=[]\n",
    "\n",
    "for i in s:\n",
    "    li.append(int(i))\n",
    "def closestZero(li):\n",
    "    # seperate all numbers less than zero and take max\n",
    "    # all numbers greater= zero,get the minimum\n",
    "    # -1,2,5,-10,-20\n",
    "    #-1,-10,-20->-1\n",
    "    # 2,5->2\n",
    "    # -1 2->\n",
    "    if o in li:\n",
    "        return 0\n",
    "    else:\n",
    "        li.sort()\n",
    "        pc=[]\n",
    "        nc=[]\n",
    "        for i in li:\n",
    "            if i>0:\n",
    "                pc.appemd(i)\n",
    "        for i in li:\n",
    "            if i<0:\n",
    "                nc.append(i)\n",
    "        if len(nc)==0:\n",
    "            return min(pc)\n",
    "        elif lem(pc)==0:\n",
    "            return max(nc)\n",
    "        else:\n",
    "            nz=max(nc)\n",
    "            pz=min(pc)\n",
    "            if abs(nz)>pz or abs(nz)==pz:\n",
    "                return pz\n",
    "            else:\n",
    "                return nz\n",
    "    \n",
    "                \n"
   ]
  },
  {
   "cell_type": "code",
   "execution_count": 29,
   "metadata": {},
   "outputs": [
    {
     "name": "stdout",
     "output_type": "stream",
     "text": [
      "-2\n"
     ]
    }
   ],
   "source": [
    "li=[3,2,-1,-2,-3]\n",
    "\n",
    "# sortingthe given data\n",
    "li.sort()# after sorting the li=[-3, -2, -1, 2, 3]\n",
    "\n",
    "pl=[]\n",
    "\n",
    "for i in li:\n",
    "    pl.append(abs(i))\n",
    "\n",
    "pl.sort()\n",
    "\n",
    "if pl[0] in li:\n",
    "    print(pl[0])\n",
    "else:\n",
    "    print(-pl[0])"
   ]
  },
  {
   "cell_type": "code",
   "execution_count": 28,
   "metadata": {},
   "outputs": [
    {
     "name": "stdout",
     "output_type": "stream",
     "text": [
      "-2\n"
     ]
    }
   ],
   "source": [
    "li=[3,2,-1,-2,-3]\n",
    "\n",
    "# sortingthe given data\n",
    "li.sort()# after sorting the li=[-3, -2, -1, 2, 3]\n",
    "\n",
    "pl=[]\n",
    "\n",
    "for i in li:\n",
    "    pl.append(abs(i))\n",
    "\n",
    "pl.sort()\n",
    "\n",
    "if -pl[0] in li:\n",
    "    print(-pl[0])\n",
    "else:\n",
    "    pritn(pl[0])"
   ]
  },
  {
   "cell_type": "code",
   "execution_count": 37,
   "metadata": {},
   "outputs": [
    {
     "data": {
      "text/plain": [
       "98"
      ]
     },
     "execution_count": 37,
     "metadata": {},
     "output_type": "execute_result"
    }
   ],
   "source": [
    "# write a program to find the largest number which is less than or equal to c and leves remainder b when divided by a\n",
    "\n",
    "def cal(a,b,c):\n",
    "    for i in range(c,a-1,-1):\n",
    "        if i%a==b:\n",
    "            return i\n",
    "    return -1\n",
    "\n",
    "cal(3,2,100)"
   ]
  },
  {
   "cell_type": "code",
   "execution_count": 40,
   "metadata": {},
   "outputs": [
    {
     "data": {
      "text/plain": [
       "[1, 2, 3, 4, 5, 6]"
      ]
     },
     "execution_count": 40,
     "metadata": {},
     "output_type": "execute_result"
    }
   ],
   "source": [
    "li1=[1,2,3,]\n",
    "li2=[4,5,6]\n",
    "li1.extend(li2)\n",
    "li1"
   ]
  },
  {
   "cell_type": "code",
   "execution_count": null,
   "metadata": {},
   "outputs": [],
   "source": []
  },
  {
   "cell_type": "code",
   "execution_count": null,
   "metadata": {},
   "outputs": [],
   "source": []
  }
 ],
 "metadata": {
  "kernelspec": {
   "display_name": "Python 3",
   "language": "python",
   "name": "python3"
  },
  "language_info": {
   "codemirror_mode": {
    "name": "ipython",
    "version": 3
   },
   "file_extension": ".py",
   "mimetype": "text/x-python",
   "name": "python",
   "nbconvert_exporter": "python",
   "pygments_lexer": "ipython3",
   "version": "3.7.3"
  }
 },
 "nbformat": 4,
 "nbformat_minor": 2
}
